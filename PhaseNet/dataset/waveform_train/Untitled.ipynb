{
 "cells": [
  {
   "cell_type": "code",
   "execution_count": 1,
   "id": "bf7a2d61-ac32-402b-ae46-338e8a9953b0",
   "metadata": {},
   "outputs": [],
   "source": [
    "import pandas as pd\n",
    "import numpy as np\n",
    "import matplotlib.pyplot as plt\n",
    "import obspy"
   ]
  },
  {
   "cell_type": "code",
   "execution_count": 2,
   "id": "769890ed-85ef-464d-be42-d3b04b492b2d",
   "metadata": {},
   "outputs": [
    {
     "data": {
      "text/plain": [
       "['data', 'itp', 'its', 'channels']"
      ]
     },
     "execution_count": 2,
     "metadata": {},
     "output_type": "execute_result"
    }
   ],
   "source": [
    "stream = np.load(\"BG_BUC_2011042314090451.npz\")\n",
    "stream.files"
   ]
  },
  {
   "cell_type": "code",
   "execution_count": 11,
   "id": "431d9755-85bd-42eb-8f09-dc14ae4e0e3f",
   "metadata": {},
   "outputs": [
    {
     "data": {
      "text/plain": [
       "(array(3000, dtype=int64), array(3062, dtype=int64))"
      ]
     },
     "execution_count": 11,
     "metadata": {},
     "output_type": "execute_result"
    }
   ],
   "source": [
    "stream['itp'],stream['its']"
   ]
  },
  {
   "cell_type": "code",
   "execution_count": 13,
   "id": "b1caaa70-da0f-406d-af77-46f30e5cd83f",
   "metadata": {},
   "outputs": [
    {
     "data": {
      "text/plain": [
       "array([ -9.17364737, -16.17364737, -38.17364737, ..., -58.17364737,\n",
       "       -58.17364737, -58.17364737])"
      ]
     },
     "execution_count": 13,
     "metadata": {},
     "output_type": "execute_result"
    }
   ],
   "source": [
    "(stream['data'][:,0])"
   ]
  },
  {
   "cell_type": "code",
   "execution_count": 4,
   "id": "8f7d72b7-06aa-4f85-8f5f-bcd7374a881d",
   "metadata": {},
   "outputs": [
    {
     "data": {
      "text/plain": [
       "dtype('float64')"
      ]
     },
     "execution_count": 4,
     "metadata": {},
     "output_type": "execute_result"
    }
   ],
   "source": [
    "(stream['data']).dtype"
   ]
  },
  {
   "cell_type": "code",
   "execution_count": 5,
   "id": "31e3e573-626f-4ed7-aa86-7114e1a1c7ab",
   "metadata": {},
   "outputs": [
    {
     "data": {
      "text/plain": [
       "dtype('<U11')"
      ]
     },
     "execution_count": 5,
     "metadata": {},
     "output_type": "execute_result"
    }
   ],
   "source": [
    "(stream['channels']).dtype"
   ]
  },
  {
   "cell_type": "code",
   "execution_count": 14,
   "id": "b90d8ef0-8ca0-4e7c-bb97-74e22392fb1c",
   "metadata": {},
   "outputs": [
    {
     "data": {
      "text/plain": [
       "array([[ -9.17364737, -13.11009888,  30.89834463],\n",
       "       [-16.17364737,  -1.11009888,   0.89834463],\n",
       "       [-38.17364737,   7.88990112,  -1.10165537],\n",
       "       ...,\n",
       "       [-58.17364737,  60.88990112,  -6.10165537],\n",
       "       [-58.17364737,  60.88990112,  -6.10165537],\n",
       "       [-58.17364737,  60.88990112,  -6.10165537]])"
      ]
     },
     "execution_count": 14,
     "metadata": {},
     "output_type": "execute_result"
    }
   ],
   "source": [
    "stream['data']"
   ]
  },
  {
   "cell_type": "code",
   "execution_count": 8,
   "id": "2848fe51-f39d-47e0-bc2b-ceb4a944d89a",
   "metadata": {},
   "outputs": [
    {
     "data": {
      "image/png": "[encoded data removed]",
      "text/plain": [
       "<Figure size 1200x300 with 1 Axes>"
      ]
     },
     "metadata": {},
     "output_type": "display_data"
    }
   ],
   "source": [
    "plt.figure(figsize=(12,3))\n",
    "plt.plot(stream['data'][:,0])\n",
    "plt.axvline(x=stream['itp'], color='r', linestyle='--') \n",
    "plt.show()"
   ]
  },
  {
   "cell_type": "code",
   "execution_count": null,
   "id": "a756274b-873d-4658-9e7e-94b13debf94d",
   "metadata": {},
   "outputs": [],
   "source": []
  }
 ],
 "metadata": {
  "kernelspec": {
   "display_name": "Python 3 (ipykernel)",
   "language": "python",
   "name": "python3"
  },
  "language_info": {
   "codemirror_mode": {
    "name": "ipython",
    "version": 3
   },
   "file_extension": ".py",
   "mimetype": "text/x-python",
   "name": "python",
   "nbconvert_exporter": "python",
   "pygments_lexer": "ipython3",
   "version": "3.9.15"
  }
 },
 "nbformat": 4,
 "nbformat_minor": 5
}
