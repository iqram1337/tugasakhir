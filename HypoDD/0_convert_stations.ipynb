{
 "cells": [
  {
   "cell_type": "code",
   "execution_count": 1,
   "id": "c3828bcd-30a1-4a22-99c6-bb3ce076bc2d",
   "metadata": {},
   "outputs": [],
   "source": [
    "#%%\n",
    "import numpy as np\n",
    "import pandas as pd\n",
    "from tqdm import tqdm\n",
    "\n",
    "# %%\n",
    "stations = pd.read_csv('project_chile/stations.csv')\n",
    "\n",
    "# %%\n",
    "converted_hypoinverse = []\n",
    "converted_hypoDD = {}"
   ]
  },
  {
   "cell_type": "code",
   "execution_count": 2,
   "id": "c6075ec2-af4e-41c5-9dae-65cf77717ce4",
   "metadata": {},
   "outputs": [
    {
     "name": "stderr",
     "output_type": "stream",
     "text": [
      "100%|████████████████████████████████████████████████████████████████████████████████| 20/20 [00:00<00:00, 1369.97it/s]\n"
     ]
    }
   ],
   "source": [
    "for i in tqdm(range(len(stations))):\n",
    "\n",
    "    network_code, station_code, comp_code, channel_code = stations.iloc[i]['id'].split('.')\n",
    "    station_weight = \" \"\n",
    "    lat_degree = int(stations.iloc[i]['latitude'])\n",
    "    lat_minute = (stations.iloc[i]['latitude'] - lat_degree) * 60\n",
    "    north = \"N\" if lat_degree >= 0 else \"S\"\n",
    "    lng_degree = int(stations.iloc[i]['longitude'])\n",
    "    lng_minute = (stations.iloc[i]['longitude'] - lng_degree) * 60\n",
    "    west = \"W\" if lng_degree <= 0 else \"E\"\n",
    "    elevation = stations.iloc[i]['elevation_m']\n",
    "    line_hypoinverse = f\"{station_code:<5} {network_code:<2} {comp_code[:-1]:<1}{channel_code:<3} {station_weight}{abs(lat_degree):2.0f} {abs(lat_minute):7.4f}{north}{abs(lng_degree):3.0f} {abs(lng_minute):7.4f}{west}{elevation:4.0f}\\n\"\n",
    "    # line_hypoDD = f\"{network_code:<2}.{station_code:<5} {stations.iloc[i]['latitude']:.3f}, {stations.iloc[i]['longitude']:.3f}\\n\"\n",
    "    #line_hypoDD = f\"{station_code} {stations.iloc[i]['latitude']:.3f} {stations.iloc[i]['longitude']:.3f}\\n\"\n",
    "    converted_hypoinverse.append(line_hypoinverse)\n",
    "    #converted_hypoDD.append(line_hypoDD)\n",
    "    converted_hypoDD[f\"{station_code}\"] = f\"{station_code} {stations.iloc[i]['latitude']:.3f} {stations.iloc[i]['longitude']:.3f}\\n\"\n",
    "\n",
    "# %%\n",
    "out_file = 'results/stations_hypoinverse.dat'\n",
    "with open(out_file, 'w') as f:\n",
    "    f.writelines(converted_hypoinverse)\n",
    "\n",
    "out_file = 'results/stations_hypoDD.dat'\n",
    "# converted_hypoDD = list(set(converted_hypoDD))\n",
    "with open(out_file, 'w') as f:\n",
    "    #f.writelines(converted_hypoDD)\n",
    "    for k, v in converted_hypoDD.items():\n",
    "        f.write(v)\n",
    "\n",
    "# %%"
   ]
  },
  {
   "cell_type": "code",
   "execution_count": 3,
   "id": "e9660436-53a6-49f9-94a1-bfa19fde6e72",
   "metadata": {},
   "outputs": [
    {
     "name": "stdout",
     "output_type": "stream",
     "text": [
      "Index(['id', 'longitude', 'latitude', 'elevation_m'], dtype='object')\n"
     ]
    }
   ],
   "source": [
    "print(stations.columns)"
   ]
  },
  {
   "cell_type": "code",
   "execution_count": null,
   "id": "be5b9a0f-d6c3-447d-bd52-a373d0cae4b3",
   "metadata": {},
   "outputs": [],
   "source": []
  }
 ],
 "metadata": {
  "kernelspec": {
   "display_name": "Python 3 (ipykernel)",
   "language": "python",
   "name": "python3"
  },
  "language_info": {
   "codemirror_mode": {
    "name": "ipython",
    "version": 3
   },
   "file_extension": ".py",
   "mimetype": "text/x-python",
   "name": "python",
   "nbconvert_exporter": "python",
   "pygments_lexer": "ipython3",
   "version": "3.9.15"
  }
 },
 "nbformat": 4,
 "nbformat_minor": 5
}
