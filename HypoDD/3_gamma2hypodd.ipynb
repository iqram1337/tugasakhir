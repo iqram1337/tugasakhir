{
 "cells": [
  {
   "cell_type": "code",
   "execution_count": 1,
   "id": "c3dc8a15-f50f-4e89-8415-963d5bbeb5d9",
   "metadata": {},
   "outputs": [],
   "source": [
    "from datetime import datetime\n",
    "\n",
    "import numpy as np\n",
    "import pandas as pd\n",
    "from tqdm import tqdm\n",
    "import os\n",
    "from glob import glob\n",
    "from multiprocessing import Pool\n",
    "import time"
   ]
  },
  {
   "cell_type": "code",
   "execution_count": 2,
   "id": "3c3b552e-9186-48a2-aba8-d1ebffb3ab9f",
   "metadata": {},
   "outputs": [],
   "source": [
    "# def download_hypodd():\n",
    "#     '''\n",
    "#     HypoDD can be downloaded from https://www.ldeo.columbia.edu/~felixw/hypoDD.html\n",
    "#     Helpful compiling flags: FFLAGS = -O -I${INCLDIR} -mcmodel=large\n",
    "#     '''\n",
    "#     os.system(\"wget -O HYPODD_1.3.tar.gz http://www.ldeo.columbia.edu/~felixw/HYPODD/HYPODD_1.3.tar.gz\")\n",
    "#     os.system(\"tar -xf HYPODD_1.3.tar.gz\")\n",
    "#     os.system(\"ln -s $(which gfortran) f77\")\n",
    "#     os.system(\"ln -s $(which gfortran) g77\")\n",
    "#     os.environ['PATH'] += os.pathsep + os.getcwd()\n",
    "#     os.system(\"make -C HYPODD/src\")\n",
    "#     # PH2DT_CMD = \"HYPODD/src/ph2dt/ph2dt ph2dt.inp\"\n",
    "#     # HYPODD_CMD = \"HYPODD/src/hypoDD/hypoDD hypoDD.inp\"\n",
    "\n",
    "# # %%\n",
    "# def download_test_data():\n",
    "#     ''' \n",
    "#     The two test files can be downloaded using commands:\n",
    "#     curl -O -J -L https://osf.io/aw53b/download\n",
    "#     curl -O -J -L https://osf.io/y879e/download\n",
    "#     curl -O -J -L https://osf.io/km97w/download\n",
    "#     Details explained in Zhu et al. (2021) (https://arxiv.org/abs/2109.09008)\n",
    "#     '''\n",
    "#     os.system(\"curl -O -J -L https://osf.io/aw53b/download\")\n",
    "#     os.system(\"curl -O -J -L https://osf.io/y879e/download\")\n",
    "#     os.system(\"curl -O -J -L https://osf.io/km97w/download\")"
   ]
  },
  {
   "cell_type": "code",
   "execution_count": 3,
   "id": "f55bc743-4f4a-4509-a4d2-f29b0f2061b3",
   "metadata": {},
   "outputs": [],
   "source": [
    "def convert_stations():\n",
    "    os.system(\"python convert_stations.py\")"
   ]
  },
  {
   "cell_type": "code",
   "execution_count": 4,
   "id": "fdc31600-1e73-4b1f-a785-803eb3190177",
   "metadata": {
    "scrolled": true
   },
   "outputs": [],
   "source": [
    "def convert_picks():\n",
    "\n",
    "    picks = pd.read_csv(\"gamma_picks.csv\")\n",
    "    events = pd.read_csv(\"gamma_events.csv\")\n",
    "\n",
    "    if \"file_index\" in events.columns:\n",
    "        events[\"match_id\"] = events.apply(lambda x: f'{x[\"event_index\"]}_{x[\"file_index\"]}', axis=1)\n",
    "        picks[\"match_id\"] = picks.apply(lambda x: f'{x[\"event_index\"]}_{x[\"file_index\"]}', axis=1)\n",
    "    elif \"file_idx\" in events.columns:\n",
    "        events[\"match_id\"] = events.apply(lambda x: f'{x[\"event_index\"]}_{x[\"file_idx\"]}', axis=1)\n",
    "        picks[\"match_id\"] = picks.apply(lambda x: f'{x[\"event_index\"]}_{x[\"file_idx\"]}', axis=1)\n",
    "    else:\n",
    "        events[\"match_id\"] = events[\"event_index\"]\n",
    "        picks[\"match_id\"] = picks[\"event_index\"]\n",
    "    events.sort_values(by=\"time\", inplace=True, ignore_index=True)\n",
    "\n",
    "    # %%\n",
    "    # MAXEVENT = len(events)\n",
    "    MAXEVENT = 1e4  ## segment by time\n",
    "    MAXEVENT = len(events) // ((len(events) - 1) // MAXEVENT + 1) + 1\n",
    "\n",
    "    # %% convert format\n",
    "    idx = 0\n",
    "    out_file = open(f\"hypoDD.pha\", \"w\")\n",
    "    hypoDD_catalogs = []\n",
    "\n",
    "    picks_by_event = picks.groupby(\"match_id\").groups\n",
    "    for i in tqdm(range(len(events))):\n",
    "        if i % MAXEVENT == MAXEVENT - 1:\n",
    "            out_file.close()\n",
    "            idx = int(i // MAXEVENT)\n",
    "            os.system(f\"mkdir tmp_{idx:02d}\")\n",
    "            os.system(f\"cp hypoDD.pha hypoDD.inp ph2dt.inp stations_hypoDD.dat ./tmp_{idx:02d}\")\n",
    "            # catalog = run_hypoDD(i, MAXEVENT)\n",
    "            # hypoDD_catalogs.append(catalog)\n",
    "            out_file = open(\"hypoDD.pha\", \"w\")\n",
    "\n",
    "        event = events.iloc[i]\n",
    "        event_time = datetime.strptime(event[\"time\"], \"%Y-%m-%dT%H:%M:%S.%f\")\n",
    "        lat = event[\"latitude\"]\n",
    "        lng = event[\"longitude\"]\n",
    "        dep = event[\"depth_km\"]\n",
    "        mag = event[\"magnitude\"]\n",
    "        EH = 0\n",
    "        EZ = 0\n",
    "        #RMS = float(event[\"covariance\"].split(\",\")[0])\n",
    "        RMS = float(str(event[\"cov_time_amp\"]).split(\",\")[0])\n",
    "        if RMS > 10:\n",
    "            RMS = 0\n",
    "        year, month, day, hour, min, sec = (\n",
    "            event_time.year,\n",
    "            event_time.month,\n",
    "            event_time.day,\n",
    "            event_time.hour,\n",
    "            event_time.minute,\n",
    "            float(event_time.strftime(\"%S.%f\")),\n",
    "        )\n",
    "        event_line = f\"# {year:4d} {month:2d} {day:2d} {hour:2d} {min:2d} {sec:5.2f}  {lat:7.4f} {lng:9.4f}   {dep:5.2f} {mag:5.2f} {EH:5.2f} {EZ:5.2f} {RMS:5.2f} {i+1:9d}\\n\"\n",
    "        out_file.write(event_line)\n",
    "\n",
    "        picks_idx = picks_by_event[event[\"match_id\"]]\n",
    "        for j in picks_idx:\n",
    "            pick = picks.iloc[j]\n",
    "            network_code, station_code, comp_code, channel_code = pick['id'].split('.')\n",
    "            phase_type = pick['type'].upper()\n",
    "            phase_weight = pick['prob']\n",
    "            pick_time = (datetime.strptime(pick[\"timestamp\"], \"%Y-%m-%dT%H:%M:%S.%f\") - event_time).total_seconds()\n",
    "            # if pick_time <= 0:\n",
    "            #     continue\n",
    "            pick_line = f\"{station_code:<5s}    {pick_time:8.3f}   {phase_weight:5.4f}   {phase_type}\\n\"\n",
    "            out_file.write(pick_line)\n",
    "\n",
    "    out_file.close()\n",
    "    idx = int(i // MAXEVENT)\n",
    "    os.system(f\"mkdir tmp_{idx:02d}\")\n",
    "    os.system(f\"cp hypoDD.pha hypoDD.inp ph2dt.inp stations_hypoDD.dat ./tmp_{idx:02d}\")"
   ]
  },
  {
   "cell_type": "code",
   "execution_count": 5,
   "id": "9613a2bd-ae09-4b67-b6c5-43b56fab5cd4",
   "metadata": {},
   "outputs": [],
   "source": [
    "def run_hypoDD(data_path):\n",
    "    print(f\"Processing: {data_path}\")\n",
    "    PH2DT_CMD = f\"cd {data_path} && ../HYPODD/src/ph2dt/ph2dt ph2dt.inp\"\n",
    "    HYPODD_CMD = f\"cd {data_path} && ../HYPODD/src/hypoDD/hypoDD hypoDD.inp\"\n",
    "    if os.system(PH2DT_CMD) != 0:\n",
    "        raise(\"{PH2DT_CMD}\" + \" failed!\")\n",
    "    if os.system(HYPODD_CMD) != 0:\n",
    "        raise(\"{HYPODD_CMD}\" + \" failed!\")\n",
    "    idx = data_path.split('/')[-1].lstrip('tmp_')\n",
    "    os.system(f\"cp {data_path}/hypoDD.reloc hypoDD_{idx}.reloc\")\n",
    "    os.system(f\"cp {data_path}/dt.ct dt_{idx}.ct\")\n",
    "    os.system(f\"cp {data_path}/event.dat event_{idx}.dat\")\n",
    "    os.system(f\"cp {data_path}/event.sel event_{idx}.sel\")"
   ]
  },
  {
   "cell_type": "code",
   "execution_count": 6,
   "id": "d00a8075-035e-4bf6-b9f4-18bbb1c3aaa3",
   "metadata": {},
   "outputs": [
    {
     "name": "stdout",
     "output_type": "stream",
     "text": [
      "Start time: Sat Jan  6 10:11:58 2024\n"
     ]
    },
    {
     "name": "stderr",
     "output_type": "stream",
     "text": [
      "100%|███████████████████████████████████████████████████████████████████████████| 21411/21411 [00:39<00:00, 538.27it/s]\n"
     ]
    }
   ],
   "source": [
    "print(f\"Start time: {time.asctime()}\")\n",
    "start_time = time.time()\n",
    "#download_hypodd()\n",
    "#download_test_data()\n",
    "convert_stations()\n",
    "convert_picks()"
   ]
  },
  {
   "cell_type": "code",
   "execution_count": null,
   "id": "f0782c5b-c83f-4417-a0c5-214de026de8d",
   "metadata": {},
   "outputs": [],
   "source": [
    "# tmp_paths = sorted(glob(\"./tmp_*\"))\n",
    "# with Pool(processes=len(tmp_paths)) as pool:\n",
    "#     pool.map(run_hypoDD, tmp_paths)\n",
    "\n",
    "# # %% concatenate catalogs\n",
    "# hypoDD_catalogs = sorted(glob(\"./hypoDD_*\"))\n",
    "# print(f\"cat {' '.join(hypoDD_catalogs)} > hypoDD_catalog.txt\")\n",
    "# os.system(f\"cat {' '.join(hypoDD_catalogs)} > hypoDD_catalog.txt\")\n",
    "\n",
    "# end_time = time.time()\n",
    "# print(f\"Finish time: {time.asctime()}\")\n",
    "# print(f\"HypoDD takes {end_time - start_time:.0f}s\")"
   ]
  },
  {
   "cell_type": "code",
   "execution_count": null,
   "id": "b356e012-d4c3-47dc-9adb-99f9d1c89729",
   "metadata": {},
   "outputs": [],
   "source": []
  }
 ],
 "metadata": {
  "kernelspec": {
   "display_name": "Python 3 (ipykernel)",
   "language": "python",
   "name": "python3"
  },
  "language_info": {
   "codemirror_mode": {
    "name": "ipython",
    "version": 3
   },
   "file_extension": ".py",
   "mimetype": "text/x-python",
   "name": "python",
   "nbconvert_exporter": "python",
   "pygments_lexer": "ipython3",
   "version": "3.9.15"
  }
 },
 "nbformat": 4,
 "nbformat_minor": 5
}
