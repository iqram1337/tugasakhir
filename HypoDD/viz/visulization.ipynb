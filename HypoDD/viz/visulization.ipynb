{
 "cells": [
  {
   "cell_type": "code",
   "execution_count": 1,
   "metadata": {},
   "outputs": [],
   "source": [
    "import pandas as pd\n",
    "import matplotlib.pyplot as plt\n",
    "import seaborn as sns\n",
    "from datetime import datetime\n",
    "import numpy as np\n",
    "# sns.set_theme()\n",
    "# palette = sns.color_palette(\"viridis\", as_cmap=True)\n",
    "# palette = sns.color_palette(\"hsv\", as_cmap=True)\n",
    "# palette = sns.color_palette(\"Spectral\", as_cmap=True)\n",
    "\n",
    "palette = \"viridis\""
   ]
  },
  {
   "cell_type": "markdown",
   "metadata": {},
   "source": [
    "- Download and compile [HypoDD](https://www.ldeo.columbia.edu/~felixw/hypoDD.html)\n",
    "- Download test files from [Zhu et al. (2021)](https://arxiv.org/abs/2109.09008)\n",
    "```bash\n",
    "curl -O -J -L https://osf.io/aw53b/download\n",
    "curl -O -J -L https://osf.io/y879e/download\n",
    "```\n",
    "- Convert GaMMA catalog and run HypoDD relocation\n",
    "```\n",
    "python gamma2hypodd.py\n",
    "```"
   ]
  },
  {
   "cell_type": "code",
   "execution_count": 2,
   "metadata": {
    "scrolled": true,
    "tags": []
   },
   "outputs": [],
   "source": [
    "#region_name = \"Ridgecrest\"\n",
    "region_name = \"testing\"\n",
    "stations = pd.read_csv(f\"./{region_name}/stations.csv\")\n",
    "\n",
    "xlim = (-117.8, -117.3)\n",
    "ylim = (35.5, 36.0)\n",
    "zlim = (0, 15)\n",
    "zlim_special = (0, 20)\n",
    "\n",
    "\n",
    "x0 = stations[\"longitude\"].median()\n",
    "y0 = stations[\"latitude\"].median()\n",
    "xmin = stations[\"longitude\"].min()\n",
    "xmax = stations[\"longitude\"].max()\n",
    "ymin = stations[\"latitude\"].min()\n",
    "ymax = stations[\"latitude\"].max()\n",
    "\n",
    "xlim = (2 * xmin - x0, 2 * xmax - x0)\n",
    "ylim = (2 * ymin - y0, 2 * ymax - y0)\n",
    "\n",
    "zlim_special = (0, 20)\n",
    "zlim= (0, 250)\n",
    "size = 1.0\n",
    "alpha = 0.5\n",
    "max_sigma = 0.6\n",
    "\n",
    "# region_name = \"PuertoRico\"\n",
    "# # xlim = (-68, -65)\n",
    "# # ylim = (17, 19)\n",
    "# xlim = (-67.2, -66.6)\n",
    "# ylim = (17.75, 18.1)\n",
    "# zlim = (0, 25)\n",
    "# zlim_special = None\n",
    "# size = 0.5\n",
    "# alpha = 0.3\n",
    "# max_sigma = 0.5\n",
    "\n",
    "# region_name = \"Hawaii\"\n",
    "# xlim = (-156.00, -154.75)\n",
    "# ylim = (18.9, 19.9)\n",
    "# zlim = (0, 40)\n",
    "# zlim_special = None\n",
    "# size = 1.0\n",
    "# alpha = 0.5\n",
    "# max_sigma = 1.5\n"
   ]
  },
  {
   "cell_type": "code",
   "execution_count": 3,
   "metadata": {
    "scrolled": true,
    "tags": []
   },
   "outputs": [],
   "source": [
    "# catalog_hypoinverse = pd.read_csv(\"catOut.sum\", sep=\"\\s+\")\n",
    "catalog_hypoDD = pd.read_csv(f\"./{region_name}/hypoDD_catalog.txt\", sep=\"\\s+\", names=[\"ID\", \"LAT\", \"LON\", \"DEPTH\", \"X\", \"Y\", \"Z\", \"EX\", \"EY\", \"EZ\", \"YR\", \"MO\", \"DY\", \"HR\", \"MI\", \"SC\", \"MAG\", \"NCCP\", \"NCCS\", \"NCTP\",\n",
    "\"NCTS\", \"RCC\", \"RCT\", \"CID\"])\n",
    "catalog_hypoDD[\"time\"] = catalog_hypoDD.apply(lambda x: f'{x[\"YR\"]:04.0f}-{x[\"MO\"]:02.0f}-{x[\"DY\"]:02.0f}T{x[\"HR\"]:02.0f}:{x[\"MI\"]:02.0f}:{min(x[\"SC\"], 59.999):05.3f}', axis=1)\n",
    "catalog_hypoDD[\"time\"] = catalog_hypoDD[\"time\"].apply(lambda x: datetime.strptime(x, \"%Y-%m-%dT%H:%M:%S.%f\"))\n",
    "\n",
    "catalog_gamma = pd.read_csv(f\"./{region_name}/gamma_events.csv\")\n",
    "catalog_gamma[\"time\"] = catalog_gamma[\"time\"].apply(lambda x: datetime.strptime(x, \"%Y-%m-%dT%H:%M:%S.%f\"))"
   ]
  },
  {
   "cell_type": "code",
   "execution_count": 4,
   "metadata": {},
   "outputs": [],
   "source": [
    "catalog_hypoDD[\"latitude\"] = catalog_hypoDD[\"LAT\"]\n",
    "catalog_hypoDD[\"longitude\"] = catalog_hypoDD[\"LON\"]\n",
    "catalog_hypoDD[\"depth_km\"] = catalog_hypoDD[\"DEPTH\"]\n",
    "catalog_hypoDD[\"magnitude\"] = catalog_hypoDD[\"MAG\"] "
   ]
  },
  {
   "cell_type": "code",
   "execution_count": 5,
   "metadata": {
    "scrolled": true,
    "tags": []
   },
   "outputs": [
    {
     "name": "stdout",
     "output_type": "stream",
     "text": [
      "Number of stations: 18\n"
     ]
    }
   ],
   "source": [
    "picks_gamma = pd.read_csv(f\"./{region_name}/gamma_picks.csv\")\n",
    "print(f\"Number of stations: {len(set(picks_gamma['id']))}\")"
   ]
  },
  {
   "cell_type": "code",
   "execution_count": 6,
   "metadata": {
    "tags": []
   },
   "outputs": [],
   "source": [
    "# catalog_gamma[\"sigma\"] = catalog_gamma[\"sigma_time\"].apply(lambda x: float(x.split(\",\")[0]))\n",
    "# catalog_gamma_selected = catalog_gamma[catalog_gamma[\"sigma\"] < max_sigma]"
   ]
  },
  {
   "cell_type": "code",
   "execution_count": 7,
   "metadata": {
    "tags": []
   },
   "outputs": [
    {
     "name": "stderr",
     "output_type": "stream",
     "text": [
      "C:\\Users\\acer\\AppData\\Local\\Temp\\ipykernel_11748\\2483479726.py:6: DeprecationWarning: parsing timezone aware datetimes is deprecated; this will raise an error in the future\n",
      "  c_gamma = (pd.to_datetime(catalog_gamma[\"time\"]).dt.tz_localize(None) - np.datetime64('1970-01-01T00:00:00Z')) / np.timedelta64(1, 's')\n",
      "C:\\Users\\acer\\AppData\\Local\\Temp\\ipykernel_11748\\2483479726.py:7: DeprecationWarning: parsing timezone aware datetimes is deprecated; this will raise an error in the future\n",
      "  c_hypodd = (pd.to_datetime(catalog_hypoDD[\"time\"]).dt.tz_localize(None) - np.datetime64('1970-01-01T00:00:00Z')) / np.timedelta64(1, 's')\n"
     ]
    }
   ],
   "source": [
    "# c_gamma = (np.array(catalog_gamma[\"time\"]) - np.datetime64('1970-01-01T00:00:00Z')) / np.timedelta64(1, 's')\n",
    "# c_hypodd = (np.array(catalog_hypoDD[\"time\"]) - np.datetime64('1970-01-01T00:00:00Z')) / np.timedelta64(1, 's')\n",
    "# t_gamma = catalog_gamma[\"time\"]\n",
    "# t_hypodd = catalog_hypoDD[\"time\"]\n",
    "\n",
    "c_gamma = (pd.to_datetime(catalog_gamma[\"time\"]).dt.tz_localize(None) - np.datetime64('1970-01-01T00:00:00Z')) / np.timedelta64(1, 's')\n",
    "c_hypodd = (pd.to_datetime(catalog_hypoDD[\"time\"]).dt.tz_localize(None) - np.datetime64('1970-01-01T00:00:00Z')) / np.timedelta64(1, 's')\n",
    "\n",
    "# The original time columns\n",
    "t_gamma = catalog_gamma[\"time\"]\n",
    "t_hypodd = catalog_hypoDD[\"time\"]"
   ]
  },
  {
   "cell_type": "code",
   "execution_count": 14,
   "metadata": {
    "tags": []
   },
   "outputs": [],
   "source": [
    "import pygmt\n",
    "region = xlim + ylim\n",
    "# # region = np.array(region) + np.array([-1, 1, -1, 1])*0.2\n",
    "# #stations = pd.read_csv(\"stations.csv\", sep=\"\\t\")\n",
    "# fig = pygmt.Figure()\n",
    "# fig.basemap(region=region, projection=\"M6i\", frame=True)\n",
    "# fig.grdimage(\"@earth_relief_15s\", cmap=\"topo\", shading=True)\n",
    "# # fig.grdimage(\"@earth_relief_03s\", cmap=\"sealand\", shading=True)\n",
    "# # fig.colorbar()\n",
    "\n",
    "# # grid = pygmt.datasets.load_earth_relief(resolution=\"15s\", region=region)\n",
    "# # dgrid = pygmt.grdgradient(grid=grid, radiance=[270, 30])\n",
    "# # pygmt.makecpt(cmap=\"gray\", series=[-50000, 20000, 1000], continuous=True)\n",
    "# # fig.grdimage(grid=grid, cmap=True, shading=True)\n",
    "\n",
    "# # fig.grdimage(grid=dgrid, cmap=True, shading=True)\n",
    "# # fig.colorbar(truncate=[-4000, 4001])\n",
    "\n",
    "# # fig.plot(x=stations[\"longitude\"], y=stations[\"latitude\"], style=\"t0.5\", color=\"blue\", pen=\"black\", label=\"Station\")\n",
    "# # fig.plot(x=catalog_hypoDD[\"longitude\"], y=catalog_hypoDD[\"latitude\"], style=\"c\", size=1, color=\"black\")\n",
    "\n",
    "# #fig.savefig(f\"{region_name}/topography.pdf\")\n",
    "# #fig.savefig(f\"{region_name}/topography.png\")\n",
    "# fig.show()"
   ]
  },
  {
   "cell_type": "code",
   "execution_count": 10,
   "metadata": {},
   "outputs": [],
   "source": [
    "# dgrid.max(), dgrid.min()"
   ]
  },
  {
   "cell_type": "code",
   "execution_count": null,
   "metadata": {
    "scrolled": true,
    "tags": []
   },
   "outputs": [
    {
     "name": "stderr",
     "output_type": "stream",
     "text": [
      "grdcut [WARNING]: (w - x_min) must equal (NX + eps) * x_inc), where NX is an integer and |eps| <= 0.0001.\n",
      "grdcut [WARNING]: w reset from -71.28852 to -71.2891666667\n",
      "grdcut [WARNING]: (e - x_min) must equal (NX + eps) * x_inc), where NX is an integer and |eps| <= 0.0001.\n",
      "grdcut [WARNING]: e reset from -68.48716 to -68.4866666667\n",
      "grdcut [WARNING]: (s - y_min) must equal (NY + eps) * y_inc), where NY is an integer and |eps| <= 0.0001.\n",
      "grdcut [WARNING]: s reset from -28.07046 to -28.0708333333\n",
      "grdcut [WARNING]: (n - y_min) must equal (NY + eps) * y_inc), where NY is an integer and |eps| <= 0.0001.\n",
      "grdcut [WARNING]: n reset from -15.48872 to -15.4883333333\n",
      "grdblend [NOTICE]: Remote data courtesy of GMT data server oceania [http://oceania.generic-mapping-tools.org]\n",
      "grdblend [NOTICE]: Earth Relief at 3x3 arc seconds tiles provided by SRTMGL3 (land only) [NASA/USGS].\n",
      "grdblend [NOTICE]:   -> Download 1x1 degree grid tile (earth_relief_03s_g): S29W072\n"
     ]
    }
   ],
   "source": [
    "plt.figure(figsize=(15, 6))\n",
    "\n",
    "grid = pygmt.datasets.load_earth_relief(resolution=\"03s\", region=region)\n",
    "dgrid = pygmt.grdgradient(grid=grid, radiance=[135, 25])\n",
    "# dgrid = pygmt.grdgradient(grid=grid)\n",
    "\n",
    "xgrid = np.linspace(xlim[0], xlim[1], grid.shape[1])\n",
    "ygrid = np.linspace(ylim[0], ylim[1], grid.shape[0])\n",
    "\n",
    "im_ratio = (ylim[1]-ylim[0])/(xlim[1]-xlim[0])\n",
    "\n",
    "plt.subplot(121)\n",
    "plt.pcolormesh(xgrid, ygrid, dgrid, shading=\"gouraud\", cmap=\"gray\", alpha=0.3, vmin=-1.5, rasterized=True)\n",
    "im = plt.scatter(catalog_gamma_selected[\"longitude\"], catalog_gamma_selected[\"latitude\"], s=size, c=c_gamma, alpha=alpha, marker=\",\", cmap=palette, linewidth=0, rasterized=True)\n",
    "# plt.pcolormesh(xgrid, ygrid, dgrid, shading=\"gouraud\", cmap=\"gray\", alpha=0.1, rasterized=True)\n",
    "plt.title(f\"GaMMA ($\\sigma$ < {max_sigma:.1f}s): {len(catalog_gamma_selected)}\")\n",
    "plt.axis(\"scaled\")\n",
    "plt.xlim(xlim)\n",
    "plt.ylim(ylim)\n",
    "plt.xlabel(\"Latitude\")\n",
    "plt.ylabel(\"Longitude\")\n",
    "\n",
    "cbar = plt.colorbar(im, fraction=0.047*im_ratio)\n",
    "cbar.set_ticks(np.linspace(c_gamma.min(), c_gamma.max(), 4))\n",
    "cbar.ax.set_yticklabels([pd.to_datetime(x, unit='s').strftime('%b %d %Y') for x in np.linspace(t_gamma.min().timestamp(), t_gamma.max().timestamp(), 4)])\n",
    "\n",
    "\n",
    "plt.subplot(122)\n",
    "plt.pcolormesh(xgrid, ygrid, dgrid, shading=\"gouraud\", cmap=\"gray\", alpha=0.3, vmin=-1.5, rasterized=True)\n",
    "im = plt.scatter(catalog_hypoDD[\"LON\"], catalog_hypoDD[\"LAT\"], s=size, c=c_hypodd, alpha=alpha, marker=\",\", cmap=palette, linewidth=0, rasterized=True)\n",
    "# plt.pcolormesh(xgrid, ygrid, dgrid, shading=\"gouraud\", cmap=\"gray\", alpha=0.1, rasterized=True)\n",
    "plt.title(f\"HypoDD: {len(catalog_hypoDD)}\")\n",
    "plt.axis(\"scaled\")\n",
    "plt.xlim(xlim)\n",
    "plt.ylim(ylim)\n",
    "plt.xlabel(\"Latitude\")\n",
    "plt.ylabel(\"Longitude\")\n",
    "\n",
    "cbar = plt.colorbar(im, fraction=0.047*im_ratio)\n",
    "cbar.set_ticks(np.linspace(c_hypodd.min(), c_hypodd.max(), 4))\n",
    "cbar.ax.set_yticklabels([pd.to_datetime(x, unit='s').strftime('%b %d %Y') for x in np.linspace(t_hypodd.min().timestamp(), t_hypodd.max().timestamp(), 4)])\n",
    "\n",
    "plt.tight_layout()\n",
    "\n",
    "#plt.savefig(f\"{region_name}/GaMMA2HypoDD_latitude_vs_longitude_color_by_time.pdf\", bbox_inches=\"tight\", dpi=600)\n",
    "#plt.savefig(f\"{region_name}/GaMMA2HypoDD_latitude_vs_longitude_color_by_time.png\", bbox_inches=\"tight\", dpi=600)\n",
    "plt.show()"
   ]
  },
  {
   "cell_type": "code",
   "execution_count": null,
   "metadata": {
    "tags": []
   },
   "outputs": [],
   "source": [
    "plt.figure(figsize=(15, 6))\n",
    "\n",
    "im_ratio = (ylim[1]-ylim[0])/(xlim[1]-xlim[0])\n",
    "\n",
    "c = catalog_gamma_selected[\"depth(m)\"].copy()/1e3\n",
    "c[c<zlim[0]] = zlim[0]\n",
    "if zlim_special is None:\n",
    "    c[c>zlim[1]] = zlim[1]\n",
    "else:\n",
    "    c[c>zlim_special[1]] = zlim_special[1]\n",
    "\n",
    "plt.subplot(121)\n",
    "plt.pcolormesh(xgrid, ygrid, dgrid, shading=\"gouraud\", cmap=\"gray\", alpha=0.3, vmin=-1.5, rasterized=True)\n",
    "plt.scatter(catalog_gamma_selected[\"longitude\"], catalog_gamma_selected[\"latitude\"], s=size, c=c, alpha=alpha, marker=\",\", cmap=palette, linewidth=0, rasterized=True)\n",
    "plt.title(f\"GaMMA ($\\sigma$ < {max_sigma:.1f}s): {len(catalog_gamma_selected)}\")\n",
    "plt.axis(\"scaled\")\n",
    "plt.xlim(xlim)\n",
    "plt.ylim(ylim)\n",
    "plt.xlabel(\"Latitude\")\n",
    "plt.ylabel(\"Longitude\")\n",
    "plt.colorbar(label=\"Depth (km)\", fraction=0.047*im_ratio)\n",
    "\n",
    "c = catalog_hypoDD[\"DEPTH\"].copy()\n",
    "c[c<zlim[0]] = zlim[0]\n",
    "c[c>zlim[1]] = zlim[1]\n",
    "\n",
    "plt.subplot(122)\n",
    "plt.pcolormesh(xgrid, ygrid, dgrid, shading=\"gouraud\", cmap=\"gray\", alpha=0.3, vmin=-1.5, rasterized=True)\n",
    "im = plt.scatter(catalog_hypoDD[\"LON\"], catalog_hypoDD[\"LAT\"], s=size, c=c, alpha=alpha, marker=\",\", cmap=palette, linewidth=0, rasterized=True)\n",
    "plt.title(f\"HypoDD: {len(catalog_hypoDD)}\")\n",
    "plt.axis(\"scaled\")\n",
    "plt.xlim(xlim)\n",
    "plt.ylim(ylim)\n",
    "plt.xlabel(\"Latitude\")\n",
    "plt.ylabel(\"Longitude\")\n",
    "plt.colorbar(label=\"Depth (km)\", fraction=0.047*im_ratio)\n",
    "\n",
    "plt.tight_layout()\n",
    "\n",
    "#plt.savefig(f\"{region_name}/GaMMA2HypoDD_latitude_vs_longitude_color_by_depth.pdf\", bbox_inches=\"tight\", dpi=600)\n",
    "#plt.savefig(f\"{region_name}/GaMMA2HypoDD_latitude_vs_longitude_color_by_depth.png\", bbox_inches=\"tight\", dpi=600)\n",
    "plt.show()"
   ]
  },
  {
   "cell_type": "code",
   "execution_count": null,
   "metadata": {},
   "outputs": [],
   "source": [
    "sns.set_theme()"
   ]
  },
  {
   "cell_type": "code",
   "execution_count": null,
   "metadata": {
    "tags": []
   },
   "outputs": [],
   "source": [
    "# plt.figure(figsize=(15, 6))\n",
    "fig, axes = plt.subplots(nrows=1, ncols=2, figsize=(15, 6))\n",
    "\n",
    "c = catalog_gamma_selected[\"latitude\"].copy()\n",
    "c[c < ylim[0]] = ylim[0]\n",
    "c[c > ylim[1]] = ylim[1]\n",
    "\n",
    "ax = axes[0]\n",
    "im = ax.scatter(catalog_gamma_selected[\"longitude\"], catalog_gamma_selected[\"depth(m)\"]/1e3, s=size, c=c, alpha=alpha, marker=\",\", cmap=palette, linewidth=0, rasterized=True)\n",
    "ax.set_title(f\"GaMMA ($\\sigma$ < {max_sigma:.1f}s): {len(catalog_gamma_selected)}\")\n",
    "ax.set_xlim(xlim)\n",
    "if zlim_special is None:\n",
    "    ax.set_ylim(zlim)\n",
    "else:\n",
    "    ax.set_ylim(zlim_special)\n",
    "ax.set_xlabel(\"Longitude\")\n",
    "ax.set_ylabel(\"Depth (km)\")\n",
    "ax.invert_yaxis()\n",
    "fig.colorbar(im, ax=ax, label=\"Latitude\")\n",
    "\n",
    "c = catalog_hypoDD[\"LAT\"].copy()\n",
    "c[c < ylim[0]] = ylim[0]\n",
    "c[c > ylim[1]] = ylim[1]\n",
    "\n",
    "ax = axes[1]\n",
    "im = ax.scatter(catalog_hypoDD[\"LON\"], catalog_hypoDD[\"DEPTH\"], s=size, c=c, alpha=alpha, marker=\",\", cmap=palette, linewidth=0, rasterized=True)\n",
    "ax.set_title(f\"HypoDD: {len(catalog_hypoDD)}\")\n",
    "ax.set_xlim(xlim)\n",
    "ax.set_ylim(zlim)\n",
    "ax.set_xlabel(\"Longitude\")\n",
    "ax.set_ylabel(\"Depth (km)\")\n",
    "ax.invert_yaxis()\n",
    "fig.colorbar(im, ax=ax, label=\"Latitude\")\n",
    "\n",
    "# fig.colorbar(im, ax=axes.ravel().tolist(), label=\"Latitude\")\n",
    "\n",
    "#plt.savefig(f\"{region_name}/GaMMA2HypoDD_depth_vs_longitude_color_by_latitude.pdf\", bbox_inches=\"tight\", dpi=600)\n",
    "#plt.savefig(f\"{region_name}/GaMMA2HypoDD_depth_vs_longitude_color_by_latitude.png\", bbox_inches=\"tight\", dpi=600)\n",
    "plt.show()"
   ]
  },
  {
   "cell_type": "code",
   "execution_count": null,
   "metadata": {
    "tags": []
   },
   "outputs": [],
   "source": [
    "plt.figure(figsize=(15, 6))\n",
    "\n",
    "c = catalog_gamma_selected[\"longitude\"].copy()\n",
    "c[c < xlim[0]] = xlim[0]\n",
    "c[c > xlim[1]] = xlim[1]\n",
    "plt.subplot(121)\n",
    "plt.scatter(catalog_gamma_selected[\"latitude\"], catalog_gamma_selected[\"depth(m)\"]/1e3, c=c, s=size, alpha=alpha, marker=\",\", cmap=palette, linewidth=0, rasterized=True)\n",
    "plt.title(f\"GaMMA ($\\sigma$ < {max_sigma:.1f}s): {len(catalog_gamma_selected)}\")\n",
    "plt.xlim(ylim)\n",
    "if zlim_special is None:\n",
    "    plt.ylim(zlim)\n",
    "else:\n",
    "    plt.ylim(zlim_special)\n",
    "plt.gca().invert_yaxis()\n",
    "plt.xlabel(\"Latitude\")\n",
    "plt.ylabel(\"Depth (km)\")\n",
    "plt.colorbar(label=\"Longitude\")\n",
    "\n",
    "c = catalog_hypoDD[\"LON\"].copy()\n",
    "c[c < xlim[0]] = xlim[0]\n",
    "c[c > xlim[1]] = xlim[1]\n",
    "plt.subplot(122)\n",
    "plt.scatter(catalog_hypoDD[\"LAT\"], catalog_hypoDD[\"DEPTH\"], s=size, c=c, alpha=alpha, marker=\",\", cmap=palette, linewidth=0, rasterized=True)\n",
    "plt.title(f\"HypoDD: {len(catalog_hypoDD)}\")\n",
    "plt.xlim(ylim)\n",
    "plt.ylim(zlim)\n",
    "plt.gca().invert_yaxis()\n",
    "plt.xlabel(\"Latitude\")\n",
    "plt.ylabel(\"Depth (km)\")\n",
    "plt.colorbar(label=\"Longitude\")\n",
    "\n",
    "#plt.savefig(f\"{region_name}/GaMMA2HypoDD_depth_vs_latitude_color_by_longitude.pdf\", bbox_inches=\"tight\", dpi=600)\n",
    "#plt.savefig(f\"{region_name}/GaMMA2HypoDD_depth_vs_latitude_color_by_longitude.png\", bbox_inches=\"tight\", dpi=600)\n",
    "plt.show()"
   ]
  },
  {
   "cell_type": "code",
   "execution_count": null,
   "metadata": {
    "tags": []
   },
   "outputs": [],
   "source": [
    "import matplotlib.dates as mdates\n",
    "plt.figure(figsize=(15, 6))\n",
    "\n",
    "# t_gamma = mdates.epoch2num(t_gamma)\n",
    "# t_hypodd = mdates.epoch2num(t_hypodd)\n",
    "# t_gamma = mdates.datetime(t_gamma)\n",
    "\n",
    "c = catalog_gamma_selected[\"latitude\"].copy()\n",
    "c[c < ylim[0]] = ylim[0]\n",
    "c[c > ylim[1]] = ylim[1]\n",
    "\n",
    "plt.subplot(121)\n",
    "plt.scatter(catalog_gamma_selected[\"longitude\"], catalog_gamma_selected[\"depth(m)\"]/1e3, s=size, c=c_gamma, alpha=alpha, marker=\",\", cmap=palette, linewidth=0, rasterized=True)\n",
    "plt.title(f\"GaMMA ($\\sigma$ < {max_sigma:.1f}s): {len(catalog_gamma_selected)}\")\n",
    "plt.xlim(xlim)\n",
    "if zlim_special is None:\n",
    "    plt.ylim(zlim)\n",
    "else:\n",
    "    plt.ylim(zlim_special)\n",
    "plt.gca().invert_yaxis()\n",
    "plt.xlabel(\"Longitude\")\n",
    "plt.ylabel(\"Depth (km)\")\n",
    "\n",
    "cbar = plt.colorbar()\n",
    "cbar.set_ticks(np.linspace(c_gamma.min(), c_gamma.max(), 4))\n",
    "cbar.ax.set_yticklabels([pd.to_datetime(x, unit='s').strftime('%b %d %Y') for x in np.linspace(t_gamma.min().timestamp(), t_gamma.max().timestamp(), 4)])\n",
    "\n",
    "\n",
    "c = catalog_hypoDD[\"LAT\"].copy()\n",
    "c[c < ylim[0]] = ylim[0]\n",
    "c[c > ylim[1]] = ylim[1]\n",
    "plt.subplot(122)\n",
    "plt.scatter(catalog_hypoDD[\"LON\"], catalog_hypoDD[\"DEPTH\"], s=size, c=c_hypodd, alpha=alpha, marker=\",\", cmap=palette, linewidth=0, rasterized=True)\n",
    "plt.title(f\"HypoDD: {len(catalog_hypoDD)}\")\n",
    "plt.xlim(xlim)\n",
    "plt.ylim(zlim)\n",
    "plt.gca().invert_yaxis()\n",
    "plt.xlabel(\"Longitude\")\n",
    "plt.ylabel(\"Depth (km)\")\n",
    "\n",
    "cbar = plt.colorbar()\n",
    "cbar.set_ticks(np.linspace(c_hypodd.min(), c_hypodd.max(), 4))\n",
    "cbar.ax.set_yticklabels([pd.to_datetime(x, unit='s').strftime('%b %d %Y') for x in np.linspace(t_hypodd.min().timestamp(), t_hypodd.max().timestamp(), 4)])\n",
    "\n",
    "#plt.savefig(f\"{region_name}/GaMMA2HypoDD_depth_vs_longitude_color_by_time.pdf\", bbox_inches=\"tight\", dpi=600)\n",
    "#plt.savefig(f\"{region_name}/GaMMA2HypoDD_depth_vs_longitude_color_by_time.png\", bbox_inches=\"tight\", dpi=600)\n",
    "plt.show()"
   ]
  },
  {
   "cell_type": "code",
   "execution_count": null,
   "metadata": {
    "tags": []
   },
   "outputs": [],
   "source": [
    "plt.figure(figsize=(15, 6))\n",
    "\n",
    "c = catalog_gamma_selected[\"longitude\"].copy()\n",
    "c[c < xlim[0]] = xlim[0]\n",
    "c[c > xlim[1]] = xlim[1]\n",
    "plt.subplot(121)\n",
    "plt.scatter(catalog_gamma_selected[\"latitude\"], catalog_gamma_selected[\"depth(m)\"]/1e3, c=c_gamma, s=size, alpha=alpha, marker=\",\", cmap=palette, linewidth=0, rasterized=True)\n",
    "plt.title(f\"GaMMA ($\\sigma$ < {max_sigma:.1f}s): {len(catalog_gamma_selected)}\")\n",
    "plt.xlim(ylim)\n",
    "if zlim_special is None:\n",
    "    plt.ylim(zlim)\n",
    "else:\n",
    "    plt.ylim(zlim_special)\n",
    "plt.gca().invert_yaxis()\n",
    "\n",
    "cbar = plt.colorbar()\n",
    "cbar.set_ticks(np.linspace(c_gamma.min(), c_gamma.max(), 4))\n",
    "cbar.ax.set_yticklabels([pd.to_datetime(x, unit='s').strftime('%b %d %Y') for x in np.linspace(t_gamma.min().timestamp(), t_gamma.max().timestamp(), 4)])\n",
    "\n",
    "\n",
    "c = catalog_hypoDD[\"LON\"].copy()\n",
    "c[c < xlim[0]] = xlim[0]\n",
    "c[c > xlim[1]] = xlim[1]\n",
    "plt.subplot(122)\n",
    "plt.scatter(catalog_hypoDD[\"LAT\"], catalog_hypoDD[\"DEPTH\"], s=size, c=c_hypodd, alpha=alpha, marker=\",\", cmap=palette, linewidth=0, rasterized=True)\n",
    "plt.title(f\"HypoDD: {len(catalog_hypoDD)}\")\n",
    "plt.xlim(ylim)\n",
    "plt.ylim(zlim)\n",
    "plt.gca().invert_yaxis()\n",
    "\n",
    "cbar = plt.colorbar()\n",
    "cbar.set_ticks(np.linspace(c_hypodd.min(), c_hypodd.max(), 4))\n",
    "cbar.ax.set_yticklabels([pd.to_datetime(x, unit='s').strftime('%b %d %Y') for x in np.linspace(t_hypodd.min().timestamp(), t_hypodd.max().timestamp(), 4)])\n",
    "\n",
    "#plt.savefig(f\"{region_name}/GaMMA2HypoDD_depth_vs_latitude_color_by_time.pdf\", bbox_inches=\"tight\", dpi=600)\n",
    "#plt.savefig(f\"{region_name}/GaMMA2HypoDD_depth_vs_latitude_color_by_time.png\", bbox_inches=\"tight\", dpi=600)\n",
    "plt.show()"
   ]
  },
  {
   "cell_type": "code",
   "execution_count": null,
   "metadata": {},
   "outputs": [],
   "source": []
  }
 ],
 "metadata": {
  "interpreter": {
   "hash": "0efb5d07c150d814a79610ed835fac9f37a29f75f64726a0e33cb3dca03bca5e"
  },
  "kernelspec": {
   "display_name": "Python 3 (ipykernel)",
   "language": "python",
   "name": "python3"
  },
  "language_info": {
   "codemirror_mode": {
    "name": "ipython",
    "version": 3
   },
   "file_extension": ".py",
   "mimetype": "text/x-python",
   "name": "python",
   "nbconvert_exporter": "python",
   "pygments_lexer": "ipython3",
   "version": "3.9.15"
  }
 },
 "nbformat": 4,
 "nbformat_minor": 4
}
