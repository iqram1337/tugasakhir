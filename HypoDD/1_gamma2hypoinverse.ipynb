{
 "cells": [
  {
   "cell_type": "code",
   "execution_count": 1,
   "id": "d5a37e07-c172-40ed-b666-e47f73786eb7",
   "metadata": {},
   "outputs": [],
   "source": [
    "from datetime import datetime\n",
    "\n",
    "import numpy as np\n",
    "import pandas as pd\n",
    "from tqdm import tqdm"
   ]
  },
  {
   "cell_type": "code",
   "execution_count": 2,
   "id": "bc138551-5306-4630-84ff-174c696f08cd",
   "metadata": {},
   "outputs": [
    {
     "name": "stderr",
     "output_type": "stream",
     "text": [
      "100%|██████████████████████████████████████████████████████████████████████████████| 1897/1897 [00:20<00:00, 91.52it/s]\n"
     ]
    }
   ],
   "source": [
    "picks = pd.read_csv(\"ridgecrest/gamma_picks.csv\")\n",
    "events = pd.read_csv(\"ridgecrest/gamma_events.csv\")\n",
    "\n",
    "events[\"match_id\"] = events.apply(lambda x: f'{x[\"event_index\"]}_{x[\"event_index\"]}', axis=1)\n",
    "picks[\"match_id\"] = picks.apply(lambda x: f'{x[\"event_index\"]}_{x[\"event_index\"]}', axis=1)\n",
    "\n",
    "# %%\n",
    "out_file = open(\"results/hypoInput.arc\", \"w\")\n",
    "\n",
    "picks_by_event = picks.groupby(\"match_id\").groups\n",
    "\n",
    "for i in tqdm(range(len(events))):\n",
    "\n",
    "    event = events.iloc[i]\n",
    "    event_time = datetime.strptime(event[\"time\"], \"%Y-%m-%dT%H:%M:%S.%f\").strftime(\"%Y%m%d%H%M%S%f\")[:-4]\n",
    "    lat_degree = int(event[\"latitude\"])\n",
    "    lat_minute = (event[\"latitude\"] - lat_degree) * 60 * 100\n",
    "    south = \"S\" if lat_degree <= 0 else \" \"\n",
    "    lng_degree = int(event[\"longitude\"])\n",
    "    lng_minute = (event[\"longitude\"] - lng_degree) * 60 * 100\n",
    "    east = \"E\" if lng_degree >= 0 else \" \"\n",
    "    depth = event[\"depth_km\"]\n",
    "    event_line = f\"{event_time}{abs(lat_degree):2d}{south}{abs(lat_minute):4.0f}{abs(lng_degree):3d}{east}{abs(lng_minute):4.0f}{depth:5.0f}\"\n",
    "    out_file.write(event_line + \"\\n\")\n",
    "\n",
    "    picks_idx = picks_by_event[event[\"match_id\"]]\n",
    "    for j in picks_idx:\n",
    "        pick = picks.iloc[j]\n",
    "        network_code, station_code, comp_code, channel_code = pick['id'].split('.')\n",
    "        phase_type = pick['type']\n",
    "        phase_weight = min(max(int((1 - pick['prob']) / (1 - 0.3) * 4) - 1, 0), 3)\n",
    "        pick_time = datetime.strptime(pick[\"timestamp\"], \"%Y-%m-%dT%H:%M:%S.%f\")\n",
    "        phase_time_minute = pick_time.strftime(\"%Y%m%d%H%M\")\n",
    "        phase_time_second = pick_time.strftime(\"%S%f\")[:-4]\n",
    "        tmp_line = f\"{station_code:<5}{network_code:<2} {comp_code:<1}{channel_code:<3}\"\n",
    "        if phase_type.upper() == 'P':\n",
    "            pick_line = f\"{tmp_line:<13} P {phase_weight:<1d}{phase_time_minute} {phase_time_second}\"\n",
    "        elif phase_type.upper() == 'S':\n",
    "            pick_line = f\"{tmp_line:<13}   4{phase_time_minute} {'':<12}{phase_time_second} S {phase_weight:<1d}\"\n",
    "        else:\n",
    "            raise (f\"Phase type error {phase_type}\")\n",
    "        out_file.write(pick_line + \"\\n\")\n",
    "\n",
    "    out_file.write(\"\\n\")\n",
    "    if i > 22e3:\n",
    "        break\n",
    "\n",
    "out_file.close()"
   ]
  },
  {
   "cell_type": "code",
   "execution_count": null,
   "id": "7f606669-3fdf-4072-8e9e-4cd59c6311ba",
   "metadata": {},
   "outputs": [],
   "source": []
  }
 ],
 "metadata": {
  "kernelspec": {
   "display_name": "Python 3 (ipykernel)",
   "language": "python",
   "name": "python3"
  },
  "language_info": {
   "codemirror_mode": {
    "name": "ipython",
    "version": 3
   },
   "file_extension": ".py",
   "mimetype": "text/x-python",
   "name": "python",
   "nbconvert_exporter": "python",
   "pygments_lexer": "ipython3",
   "version": "3.9.15"
  }
 },
 "nbformat": 4,
 "nbformat_minor": 5
}
