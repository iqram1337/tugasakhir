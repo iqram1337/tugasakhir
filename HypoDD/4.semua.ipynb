{
 "cells": [
  {
   "cell_type": "code",
   "execution_count": 1,
   "id": "9836f310-077a-474e-8be4-706addf4a7d6",
   "metadata": {},
   "outputs": [],
   "source": [
    "#%%\n",
    "import pandas as pd\n",
    "import numpy as np\n",
    "import os\n",
    "from datetime import datetime\n",
    "import matplotlib.pyplot as plt\n",
    "import matplotlib.dates as mdates\n",
    "import pickle\n",
    "import json\n",
    "from tqdm import tqdm\n",
    "from glob import glob\n",
    "from multiprocessing import Pool\n",
    "import time\n",
    "\n",
    "region = \"ridgecrest\"\n",
    "#region = \"project_chile\"\n",
    "#region = \"testing\"\n",
    "data_path = lambda x: os.path.join(f\"{region}\", x)\n",
    "\n",
    "stations = pd.read_csv(data_path(\"stations.csv\"))\n",
    "picks = pd.read_csv(data_path(\"gamma_picks.csv\"))\n",
    "events = pd.read_csv(data_path(\"gamma_events.csv\"))\n"
   ]
  },
  {
   "cell_type": "markdown",
   "id": "cbdcad57-1473-44b4-af90-19ddfc7738f9",
   "metadata": {},
   "source": [
    "# Convert Stations"
   ]
  },
  {
   "cell_type": "code",
   "execution_count": 2,
   "id": "c731a3f9-a048-4150-b7ed-18ba6b88b565",
   "metadata": {},
   "outputs": [
    {
     "name": "stderr",
     "output_type": "stream",
     "text": [
      "100%|████████████████████████████████████████████████████████████████████████████████| 58/58 [00:00<00:00, 1067.04it/s]\n"
     ]
    }
   ],
   "source": [
    "converted_hypoinverse = []\n",
    "converted_hypoDD = {}\n",
    "\n",
    "for i in tqdm(range(len(stations))):\n",
    "\n",
    "    network_code, station_code, comp_code, channel_code = stations.iloc[i]['id'].split('.')\n",
    "    station_weight = \" \"\n",
    "    lat_degree = int(stations.iloc[i]['latitude'])\n",
    "    lat_minute = (stations.iloc[i]['latitude'] - lat_degree) * 60\n",
    "    north = \"N\" if lat_degree >= 0 else \"S\"\n",
    "    lng_degree = int(stations.iloc[i]['longitude'])\n",
    "    lng_minute = (stations.iloc[i]['longitude'] - lng_degree) * 60\n",
    "    west = \"W\" if lng_degree <= 0 else \"E\"\n",
    "    elevation = stations.iloc[i]['elevation_m']\n",
    "    line_hypoinverse = f\"{station_code:<5} {network_code:<2} {comp_code[:-1]:<1}{channel_code:<3} {station_weight}{abs(lat_degree):2.0f} {abs(lat_minute):7.4f}{north}{abs(lng_degree):3.0f} {abs(lng_minute):7.4f}{west}{elevation:4.0f}\\n\"\n",
    "    # line_hypoDD = f\"{network_code:<2}.{station_code:<5} {stations.iloc[i]['latitude']:.3f}, {stations.iloc[i]['longitude']:.3f}\\n\"\n",
    "    #line_hypoDD = f\"{station_code} {stations.iloc[i]['latitude']:.3f} {stations.iloc[i]['longitude']:.3f}\\n\"\n",
    "    converted_hypoinverse.append(line_hypoinverse)\n",
    "    #converted_hypoDD.append(line_hypoDD)\n",
    "    converted_hypoDD[f\"{station_code}\"] = f\"{station_code} {stations.iloc[i]['latitude']:.3f} {stations.iloc[i]['longitude']:.3f}\\n\"\n",
    "\n",
    "# %%\n",
    "out_file = 'results/stations_hypoinverse.dat'\n",
    "with open(out_file, 'w') as f:\n",
    "    f.writelines(converted_hypoinverse)\n",
    "\n",
    "out_file = 'results/stations_hypoDD.dat'\n",
    "# converted_hypoDD = list(set(converted_hypoDD))\n",
    "with open(out_file, 'w') as f:\n",
    "    #f.writelines(converted_hypoDD)\n",
    "    for k, v in converted_hypoDD.items():\n",
    "        f.write(v)\n",
    "\n",
    "# %%"
   ]
  },
  {
   "cell_type": "markdown",
   "id": "7c009457-4d87-4781-ba76-9a0aa56dc19c",
   "metadata": {},
   "source": [
    "# GaMMa to Hypoinverse"
   ]
  },
  {
   "cell_type": "code",
   "execution_count": 3,
   "id": "cde676c6-4423-4486-bae5-5761a2d97525",
   "metadata": {},
   "outputs": [
    {
     "name": "stderr",
     "output_type": "stream",
     "text": [
      "100%|█████████████████████████████████████████████████████████████████████████████| 1897/1897 [00:14<00:00, 128.23it/s]\n"
     ]
    }
   ],
   "source": [
    "events[\"match_id\"] = events.apply(lambda x: f'{x[\"event_index\"]}_{x[\"event_index\"]}', axis=1)\n",
    "picks[\"match_id\"] = picks.apply(lambda x: f'{x[\"event_index\"]}_{x[\"event_index\"]}', axis=1)\n",
    "\n",
    "# %%\n",
    "out_file = open(\"results/hypoInput.arc\", \"w\")\n",
    "\n",
    "picks_by_event = picks.groupby(\"match_id\").groups\n",
    "\n",
    "for i in tqdm(range(len(events))):\n",
    "\n",
    "    event = events.iloc[i]\n",
    "    event_time = datetime.strptime(event[\"time\"], \"%Y-%m-%dT%H:%M:%S.%f\").strftime(\"%Y%m%d%H%M%S%f\")[:-4]\n",
    "    lat_degree = int(event[\"latitude\"])\n",
    "    lat_minute = (event[\"latitude\"] - lat_degree) * 60 * 100\n",
    "    south = \"S\" if lat_degree <= 0 else \" \"\n",
    "    lng_degree = int(event[\"longitude\"])\n",
    "    lng_minute = (event[\"longitude\"] - lng_degree) * 60 * 100\n",
    "    east = \"E\" if lng_degree >= 0 else \" \"\n",
    "    depth = event[\"depth_km\"]\n",
    "    event_line = f\"{event_time}{abs(lat_degree):2d}{south}{abs(lat_minute):4.0f}{abs(lng_degree):3d}{east}{abs(lng_minute):4.0f}{depth:5.0f}\"\n",
    "    out_file.write(event_line + \"\\n\")\n",
    "\n",
    "    picks_idx = picks_by_event[event[\"match_id\"]]\n",
    "    for j in picks_idx:\n",
    "        pick = picks.iloc[j]\n",
    "        network_code, station_code, comp_code, channel_code = pick['id'].split('.')\n",
    "        phase_type = pick['type']\n",
    "        phase_weight = min(max(int((1 - pick['prob']) / (1 - 0.3) * 4) - 1, 0), 3)\n",
    "        pick_time = datetime.strptime(pick[\"timestamp\"], \"%Y-%m-%dT%H:%M:%S.%f\")\n",
    "        phase_time_minute = pick_time.strftime(\"%Y%m%d%H%M\")\n",
    "        phase_time_second = pick_time.strftime(\"%S%f\")[:-4]\n",
    "        tmp_line = f\"{station_code:<5}{network_code:<2} {comp_code:<1}{channel_code:<3}\"\n",
    "        if phase_type.upper() == 'P':\n",
    "            pick_line = f\"{tmp_line:<13} P {phase_weight:<1d}{phase_time_minute} {phase_time_second}\"\n",
    "        elif phase_type.upper() == 'S':\n",
    "            pick_line = f\"{tmp_line:<13}   4{phase_time_minute} {'':<12}{phase_time_second} S {phase_weight:<1d}\"\n",
    "        else:\n",
    "            raise (f\"Phase type error {phase_type}\")\n",
    "        out_file.write(pick_line + \"\\n\")\n",
    "\n",
    "    out_file.write(\"\\n\")\n",
    "    if i > 22e3:\n",
    "        break\n",
    "\n",
    "out_file.close()"
   ]
  },
  {
   "cell_type": "code",
   "execution_count": 4,
   "id": "5afe4bf6-3be9-42a1-b8d7-1d63d1699359",
   "metadata": {},
   "outputs": [
    {
     "data": {
      "text/plain": [
       "id                            PB.B921..EH\n",
       "timestamp      2019-07-04T19:59:10.074000\n",
       "prob                              0.79263\n",
       "amp                              0.000022\n",
       "type                                    S\n",
       "event_index                          1767\n",
       "gamma_score                      0.121487\n",
       "match_id                        1767_1767\n",
       "Name: 66482, dtype: object"
      ]
     },
     "execution_count": 4,
     "metadata": {},
     "output_type": "execute_result"
    }
   ],
   "source": [
    "pick"
   ]
  },
  {
   "cell_type": "markdown",
   "id": "95ab77aa-41a4-4b1a-89bf-91fcc5cc6ea8",
   "metadata": {},
   "source": [
    "# Hypoinverse to HypoDD"
   ]
  },
  {
   "cell_type": "code",
   "execution_count": 5,
   "id": "be4f6767-b912-44f4-92b6-864b0079b47e",
   "metadata": {},
   "outputs": [],
   "source": [
    "def convert_stations():\n",
    "    os.system(\"python convert_stations.py\")\n",
    "def convert_picks():\n",
    "\n",
    "    picks = pd.read_csv(data_path(\"gamma_picks.csv\"))\n",
    "    events = pd.read_csv(data_path(\"gamma_events.csv\"))\n",
    "\n",
    "    if \"file_index\" in events.columns:\n",
    "        events[\"match_id\"] = events.apply(lambda x: f'{x[\"event_index\"]}_{x[\"file_index\"]}', axis=1)\n",
    "        picks[\"match_id\"] = picks.apply(lambda x: f'{x[\"event_index\"]}_{x[\"file_index\"]}', axis=1)\n",
    "    elif \"file_idx\" in events.columns:\n",
    "        events[\"match_id\"] = events.apply(lambda x: f'{x[\"event_index\"]}_{x[\"file_idx\"]}', axis=1)\n",
    "        picks[\"match_id\"] = picks.apply(lambda x: f'{x[\"event_index\"]}_{x[\"file_idx\"]}', axis=1)\n",
    "    else:\n",
    "        events[\"match_id\"] = events[\"event_index\"]\n",
    "        picks[\"match_id\"] = picks[\"event_index\"]\n",
    "    events.sort_values(by=\"time\", inplace=True, ignore_index=True)\n",
    "\n",
    "    # %%\n",
    "    # MAXEVENT = len(events)\n",
    "    MAXEVENT = 2e5  ## segment by time\n",
    "    MAXEVENT = len(events) // ((len(events) - 1) // MAXEVENT + 1) + 1\n",
    "\n",
    "    # %% convert format\n",
    "    idx = 0\n",
    "    out_file = open(f\"results/hypoDD.pha\", \"w\")\n",
    "    hypoDD_catalogs = []\n",
    "\n",
    "    picks_by_event = picks.groupby(\"match_id\").groups\n",
    "    for i in tqdm(range(len(events))):\n",
    "        if i % MAXEVENT == MAXEVENT - 1:\n",
    "            out_file.close()\n",
    "            idx = int(i // MAXEVENT)\n",
    "            os.system(f\"mkdir tmp_{idx:02d}\")\n",
    "            os.system(f\"cp hypoDD.pha hypoDD.inp ph2dt.inp stations_hypoDD.dat ./tmp_{idx:02d}\")\n",
    "            # catalog = run_hypoDD(i, MAXEVENT)\n",
    "            # hypoDD_catalogs.append(catalog)\n",
    "            out_file = open(\"results/hypoDD.pha\", \"w\")\n",
    "\n",
    "        event = events.iloc[i]\n",
    "        event_time = datetime.strptime(event[\"time\"], \"%Y-%m-%dT%H:%M:%S.%f\")\n",
    "        lat = event[\"latitude\"]\n",
    "        lng = event[\"longitude\"]\n",
    "        dep = event[\"depth_km\"]\n",
    "        mag = event[\"magnitude\"]\n",
    "        EH = 0\n",
    "        EZ = 0\n",
    "        #RMS = float(event[\"covariance\"].split(\",\")[0])\n",
    "        RMS = float(str(event[\"cov_time_amp\"]).split(\",\")[0])\n",
    "        if RMS > 10:\n",
    "            RMS = 0\n",
    "        year, month, day, hour, min, sec = (\n",
    "            event_time.year,\n",
    "            event_time.month,\n",
    "            event_time.day,\n",
    "            event_time.hour,\n",
    "            event_time.minute,\n",
    "            float(event_time.strftime(\"%S.%f\")),\n",
    "        )\n",
    "        event_line = f\"# {year:4d} {month:2d} {day:2d} {hour:2d} {min:2d} {sec:5.2f}  {lat:7.4f} {lng:9.4f}   {dep:5.2f} {mag:5.2f} {EH:5.2f} {EZ:5.2f} {RMS:5.2f} {i+1:9d}\\n\"\n",
    "        out_file.write(event_line)\n",
    "\n",
    "        picks_idx = picks_by_event[event[\"match_id\"]]\n",
    "        for j in picks_idx:\n",
    "            pick = picks.iloc[j]\n",
    "            network_code, station_code, comp_code, channel_code = pick['id'].split('.')\n",
    "            phase_type = pick['type'].upper()\n",
    "            phase_weight = pick['prob']\n",
    "            pick_time = (datetime.strptime(pick[\"timestamp\"], \"%Y-%m-%dT%H:%M:%S.%f\") - event_time).total_seconds()\n",
    "            # if pick_time <= 0:\n",
    "            #     continue\n",
    "            pick_line = f\"{station_code:<5s}    {pick_time:8.3f}   {phase_weight:5.4f}   {phase_type}\\n\"\n",
    "            out_file.write(pick_line)\n",
    "\n",
    "    out_file.close()\n",
    "    idx = int(i // MAXEVENT)\n",
    "    os.system(f\"mkdir tmp_{idx:02d}\")\n",
    "    os.system(f\"cp hypoDD.pha hypoDD.inp ph2dt.inp stations_hypoDD.dat ./tmp_{idx:02d}\")"
   ]
  },
  {
   "cell_type": "code",
   "execution_count": 6,
   "id": "f507224e-bd5e-41f0-a67c-78d7f421cb60",
   "metadata": {},
   "outputs": [
    {
     "name": "stdout",
     "output_type": "stream",
     "text": [
      "Start time: Sat Jan 20 19:31:12 2024\n"
     ]
    },
    {
     "name": "stderr",
     "output_type": "stream",
     "text": [
      "100%|█████████████████████████████████████████████████████████████████████████████| 1897/1897 [00:12<00:00, 152.08it/s]\n"
     ]
    }
   ],
   "source": [
    "print(f\"Start time: {time.asctime()}\")\n",
    "start_time = time.time()\n",
    "convert_stations()\n",
    "convert_picks()"
   ]
  }
 ],
 "metadata": {
  "kernelspec": {
   "display_name": "Python 3 (ipykernel)",
   "language": "python",
   "name": "python3"
  },
  "language_info": {
   "codemirror_mode": {
    "name": "ipython",
    "version": 3
   },
   "file_extension": ".py",
   "mimetype": "text/x-python",
   "name": "python",
   "nbconvert_exporter": "python",
   "pygments_lexer": "ipython3",
   "version": "3.9.15"
  }
 },
 "nbformat": 4,
 "nbformat_minor": 5
}
